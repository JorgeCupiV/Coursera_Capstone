{
 "cells": [
  {
   "cell_type": "markdown",
   "metadata": {},
   "source": [
    "# Helping small business to define where to start in a city"
   ]
  },
  {
   "cell_type": "markdown",
   "metadata": {},
   "source": [
    "## Business Problem \n",
    "Small business such as restaurants, coffee shops, among others might want to know how desired can they be in a new neigbourhood if they decide to open a new place.\n",
    "\n",
    "So the questions are: \n",
    "- If someone is looking to open a restaurant, where would you recommend that they open it based on similar venues around the neighbourhood? \n",
    "- Can we use Foursquare to map a list of top venues within a city's different neighbourhoods?\n",
    "\n",
    "If that is possible, then, for sure a restaurant will take a decision to open a new spot at a specific list of neighbourhoods based on the number of competition"
   ]
  },
  {
   "cell_type": "markdown",
   "metadata": {},
   "source": [
    "## Data to be used\n",
    "- We'll use Foursquare's API to get a list of top venues of each borough (localidad) in Bogota, Colombia\n",
    "- A list of Bogota's boroughs https://es.wikipedia.org/wiki/Anexo:Localidades_de_Bogot%C3%A1 that also includes population and population density that can help to improve a decision"
   ]
  },
  {
   "cell_type": "code",
   "execution_count": null,
   "metadata": {},
   "outputs": [],
   "source": []
  }
 ],
 "metadata": {
  "kernelspec": {
   "display_name": "Python 3",
   "language": "python",
   "name": "python3"
  },
  "language_info": {
   "codemirror_mode": {
    "name": "ipython",
    "version": 3
   },
   "file_extension": ".py",
   "mimetype": "text/x-python",
   "name": "python",
   "nbconvert_exporter": "python",
   "pygments_lexer": "ipython3",
   "version": "3.7.3"
  }
 },
 "nbformat": 4,
 "nbformat_minor": 2
}
